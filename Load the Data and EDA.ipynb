{
 "cells": [
  {
   "cell_type": "markdown",
   "id": "feac404c",
   "metadata": {},
   "source": [
    "# Import libraries"
   ]
  },
  {
   "cell_type": "code",
   "execution_count": 24,
   "id": "ad16ed72",
   "metadata": {},
   "outputs": [],
   "source": [
    "# Import libraries and modules\n",
    "import numpy as np\n",
    "import pandas as pd\n",
    "from PIL import Image\n",
    "import matplotlib.pyplot as plt\n",
    "import seaborn as sns\n",
    "import os"
   ]
  },
  {
   "cell_type": "markdown",
   "id": "d3d40eb7",
   "metadata": {},
   "source": [
    "# read the Dataset"
   ]
  },
  {
   "cell_type": "code",
   "execution_count": 2,
   "id": "8e3c3a88",
   "metadata": {},
   "outputs": [],
   "source": [
    "# load the data set \n",
    "data_train = np.load(\"dataverse_files (1)/Dataset5_raw_train.npz\")\n",
    "data_test = np.load(\"dataverse_files (1)/Dataset5_raw_test.npz\")\n",
    "data_val = np.load(\"dataverse_files (1)/Dataset5_raw_val.npz\")"
   ]
  },
  {
   "cell_type": "code",
   "execution_count": 3,
   "id": "6c0383c2",
   "metadata": {},
   "outputs": [],
   "source": [
    "# Extract the images' pixels\n",
    "img_content_train = (data_train['image']).astype('uint8')\n",
    "img_content_test = (data_test['image']).astype('uint8')\n",
    "img_content_val = (data_val['image']).astype('uint8')"
   ]
  },
  {
   "cell_type": "code",
   "execution_count": 4,
   "id": "bff1e06a",
   "metadata": {},
   "outputs": [],
   "source": [
    "# extract the images' labels\n",
    "label_train = data_train['image_label']\n",
    "label_test = data_test['image_label']\n",
    "label_val = data_val['image_label']"
   ]
  },
  {
   "cell_type": "code",
   "execution_count": 5,
   "id": "93da603b",
   "metadata": {},
   "outputs": [
    {
     "data": {
      "text/plain": [
       "(19610, 224, 224, 3)"
      ]
     },
     "execution_count": 5,
     "metadata": {},
     "output_type": "execute_result"
    }
   ],
   "source": [
    "# check the number and size  of train images\n",
    "img_content_train.shape"
   ]
  },
  {
   "cell_type": "code",
   "execution_count": 6,
   "id": "ea520b8d",
   "metadata": {},
   "outputs": [
    {
     "data": {
      "text/plain": [
       "(6540, 224, 224, 3)"
      ]
     },
     "execution_count": 6,
     "metadata": {},
     "output_type": "execute_result"
    }
   ],
   "source": [
    "# check the number and size of test images\n",
    "img_content_test.shape"
   ]
  },
  {
   "cell_type": "code",
   "execution_count": 7,
   "id": "87c5340e",
   "metadata": {},
   "outputs": [
    {
     "data": {
      "text/plain": [
       "(6534, 224, 224, 3)"
      ]
     },
     "execution_count": 7,
     "metadata": {},
     "output_type": "execute_result"
    }
   ],
   "source": [
    "# check the number and size of validation images\n",
    "img_content_val.shape"
   ]
  },
  {
   "cell_type": "markdown",
   "id": "76b35e87",
   "metadata": {},
   "source": [
    "**we have 19610 on train and 6540 on test 6534 on validation data set all colored images with size 224*224, all the images have the same size, no need to change the size.**"
   ]
  },
  {
   "cell_type": "code",
   "execution_count": 8,
   "id": "3e3d2773",
   "metadata": {},
   "outputs": [
    {
     "data": {
      "text/plain": [
       "array([[0.],\n",
       "       [0.],\n",
       "       [0.],\n",
       "       ...,\n",
       "       [4.],\n",
       "       [4.],\n",
       "       [4.]])"
      ]
     },
     "execution_count": 8,
     "metadata": {},
     "output_type": "execute_result"
    }
   ],
   "source": [
    "# check the classes of the images\n",
    "label_train"
   ]
  },
  {
   "cell_type": "markdown",
   "id": "aa690158",
   "metadata": {},
   "source": [
    "**we have from 0-4 classes this mean we have 5 classes in our data set.**"
   ]
  },
  {
   "cell_type": "markdown",
   "id": "f9c53c05",
   "metadata": {},
   "source": [
    "# EDA "
   ]
  },
  {
   "cell_type": "code",
   "execution_count": 9,
   "id": "9a02abf3",
   "metadata": {},
   "outputs": [],
   "source": [
    "# save the images labels in a data frames to make it easy for the EDA.\n",
    "train_label_df = (pd.DataFrame(label_train)).set_axis([\"label\"],axis=1)\n",
    "test_label_df =(pd.DataFrame(label_test)).set_axis([\"label\"],axis=1)\n",
    "val_label_df = (pd.DataFrame(label_val)).set_axis([\"label\"],axis=1)"
   ]
  },
  {
   "cell_type": "code",
   "execution_count": 11,
   "id": "6da431c4",
   "metadata": {
    "scrolled": false
   },
   "outputs": [
    {
     "data": {
      "text/html": [
       "<div>\n",
       "<style scoped>\n",
       "    .dataframe tbody tr th:only-of-type {\n",
       "        vertical-align: middle;\n",
       "    }\n",
       "\n",
       "    .dataframe tbody tr th {\n",
       "        vertical-align: top;\n",
       "    }\n",
       "\n",
       "    .dataframe thead th {\n",
       "        text-align: right;\n",
       "    }\n",
       "</style>\n",
       "<table border=\"1\" class=\"dataframe\">\n",
       "  <thead>\n",
       "    <tr style=\"text-align: right;\">\n",
       "      <th></th>\n",
       "      <th>label</th>\n",
       "    </tr>\n",
       "  </thead>\n",
       "  <tbody>\n",
       "    <tr>\n",
       "      <th>0</th>\n",
       "      <td>0.0</td>\n",
       "    </tr>\n",
       "    <tr>\n",
       "      <th>1</th>\n",
       "      <td>0.0</td>\n",
       "    </tr>\n",
       "    <tr>\n",
       "      <th>2</th>\n",
       "      <td>0.0</td>\n",
       "    </tr>\n",
       "    <tr>\n",
       "      <th>3</th>\n",
       "      <td>0.0</td>\n",
       "    </tr>\n",
       "    <tr>\n",
       "      <th>4</th>\n",
       "      <td>0.0</td>\n",
       "    </tr>\n",
       "  </tbody>\n",
       "</table>\n",
       "</div>"
      ],
      "text/plain": [
       "   label\n",
       "0    0.0\n",
       "1    0.0\n",
       "2    0.0\n",
       "3    0.0\n",
       "4    0.0"
      ]
     },
     "execution_count": 11,
     "metadata": {},
     "output_type": "execute_result"
    }
   ],
   "source": [
    "train_label_df.head()"
   ]
  },
  {
   "cell_type": "markdown",
   "id": "61515e2f",
   "metadata": {},
   "source": [
    "## Train Image"
   ]
  },
  {
   "cell_type": "code",
   "execution_count": 12,
   "id": "b0ca7fe8",
   "metadata": {},
   "outputs": [],
   "source": [
    "# Add a column for each classes name\n",
    "values = ['COVID-19 ', 'Lung-Opacity', 'Normal', 'Viral Pneumonia', 'Tuberculosis']\n",
    "conditions = [\n",
    "    (train_label_df['label'] == 0),\n",
    "    (train_label_df['label'] == 1),\n",
    "    (train_label_df['label'] == 2),\n",
    "    (train_label_df['label'] == 3), (train_label_df['label'] == 4)\n",
    "    ]\n",
    "train_label_df['class_name'] = np.select(conditions, values)"
   ]
  },
  {
   "cell_type": "code",
   "execution_count": 1,
   "id": "c5b85469",
   "metadata": {},
   "outputs": [
    {
     "ename": "NameError",
     "evalue": "name 'train_label_df' is not defined",
     "output_type": "error",
     "traceback": [
      "\u001b[1;31m---------------------------------------------------------------------------\u001b[0m",
      "\u001b[1;31mNameError\u001b[0m                                 Traceback (most recent call last)",
      "\u001b[1;32m<ipython-input-1-6c7457ca6fcf>\u001b[0m in \u001b[0;36m<module>\u001b[1;34m\u001b[0m\n\u001b[1;32m----> 1\u001b[1;33m \u001b[0mtrain_label_df\u001b[0m\u001b[1;33m.\u001b[0m\u001b[0mhead\u001b[0m\u001b[1;33m\u001b[0m\u001b[1;33m\u001b[0m\u001b[0m\n\u001b[0m",
      "\u001b[1;31mNameError\u001b[0m: name 'train_label_df' is not defined"
     ]
    }
   ],
   "source": [
    "train_label_df.head"
   ]
  },
  {
   "cell_type": "markdown",
   "id": "402f2a9b",
   "metadata": {},
   "source": [
    "### Test Image"
   ]
  },
  {
   "cell_type": "code",
   "execution_count": 15,
   "id": "5e766384",
   "metadata": {},
   "outputs": [],
   "source": [
    "# creat colume with name for each class\n",
    "values = ['COVID-19 ', 'Lung-Opacity', 'Normal', 'Viral Pneumonia', 'Tuberculosis']\n",
    "conditions = [\n",
    "    (test_label_df['label'] == 0),\n",
    "    (test_label_df['label'] == 1),\n",
    "    (test_label_df['label'] == 2),\n",
    "    (test_label_df['label'] == 3), (test_label_df['label'] == 4)\n",
    "    ]\n",
    "test_label_df['class_name'] = np.select(conditions, values)"
   ]
  },
  {
   "cell_type": "code",
   "execution_count": 16,
   "id": "d78ad321",
   "metadata": {},
   "outputs": [
    {
     "data": {
      "text/html": [
       "<div>\n",
       "<style scoped>\n",
       "    .dataframe tbody tr th:only-of-type {\n",
       "        vertical-align: middle;\n",
       "    }\n",
       "\n",
       "    .dataframe tbody tr th {\n",
       "        vertical-align: top;\n",
       "    }\n",
       "\n",
       "    .dataframe thead th {\n",
       "        text-align: right;\n",
       "    }\n",
       "</style>\n",
       "<table border=\"1\" class=\"dataframe\">\n",
       "  <thead>\n",
       "    <tr style=\"text-align: right;\">\n",
       "      <th></th>\n",
       "      <th>label</th>\n",
       "      <th>class_name</th>\n",
       "    </tr>\n",
       "  </thead>\n",
       "  <tbody>\n",
       "    <tr>\n",
       "      <th>0</th>\n",
       "      <td>0.0</td>\n",
       "      <td>COVID-19</td>\n",
       "    </tr>\n",
       "    <tr>\n",
       "      <th>1</th>\n",
       "      <td>0.0</td>\n",
       "      <td>COVID-19</td>\n",
       "    </tr>\n",
       "    <tr>\n",
       "      <th>2</th>\n",
       "      <td>0.0</td>\n",
       "      <td>COVID-19</td>\n",
       "    </tr>\n",
       "    <tr>\n",
       "      <th>3</th>\n",
       "      <td>0.0</td>\n",
       "      <td>COVID-19</td>\n",
       "    </tr>\n",
       "    <tr>\n",
       "      <th>4</th>\n",
       "      <td>0.0</td>\n",
       "      <td>COVID-19</td>\n",
       "    </tr>\n",
       "  </tbody>\n",
       "</table>\n",
       "</div>"
      ],
      "text/plain": [
       "   label class_name\n",
       "0    0.0  COVID-19 \n",
       "1    0.0  COVID-19 \n",
       "2    0.0  COVID-19 \n",
       "3    0.0  COVID-19 \n",
       "4    0.0  COVID-19 "
      ]
     },
     "execution_count": 16,
     "metadata": {},
     "output_type": "execute_result"
    }
   ],
   "source": [
    "test_label_df.head()"
   ]
  },
  {
   "cell_type": "markdown",
   "id": "02c2f6e4",
   "metadata": {},
   "source": [
    "## Validation Image"
   ]
  },
  {
   "cell_type": "code",
   "execution_count": 17,
   "id": "6913cdfc",
   "metadata": {},
   "outputs": [],
   "source": [
    "# creat colume with name oof each class\n",
    "values = ['COVID-19 ', 'Lung-Opacity', 'Normal', 'Viral Pneumonia', 'Tuberculosis']\n",
    "conditions = [\n",
    "    (val_label_df['label'] == 0),\n",
    "    (val_label_df['label'] == 1),\n",
    "    (val_label_df['label'] == 2),\n",
    "    (val_label_df['label'] == 3), (val_label_df['label'] == 4)\n",
    "    ]\n",
    "val_label_df['class_name'] = np.select(conditions, values)"
   ]
  },
  {
   "cell_type": "code",
   "execution_count": 18,
   "id": "3236eb8f",
   "metadata": {},
   "outputs": [
    {
     "data": {
      "text/html": [
       "<div>\n",
       "<style scoped>\n",
       "    .dataframe tbody tr th:only-of-type {\n",
       "        vertical-align: middle;\n",
       "    }\n",
       "\n",
       "    .dataframe tbody tr th {\n",
       "        vertical-align: top;\n",
       "    }\n",
       "\n",
       "    .dataframe thead th {\n",
       "        text-align: right;\n",
       "    }\n",
       "</style>\n",
       "<table border=\"1\" class=\"dataframe\">\n",
       "  <thead>\n",
       "    <tr style=\"text-align: right;\">\n",
       "      <th></th>\n",
       "      <th>label</th>\n",
       "      <th>class_name</th>\n",
       "    </tr>\n",
       "  </thead>\n",
       "  <tbody>\n",
       "    <tr>\n",
       "      <th>0</th>\n",
       "      <td>0.0</td>\n",
       "      <td>COVID-19</td>\n",
       "    </tr>\n",
       "    <tr>\n",
       "      <th>1</th>\n",
       "      <td>0.0</td>\n",
       "      <td>COVID-19</td>\n",
       "    </tr>\n",
       "    <tr>\n",
       "      <th>2</th>\n",
       "      <td>0.0</td>\n",
       "      <td>COVID-19</td>\n",
       "    </tr>\n",
       "    <tr>\n",
       "      <th>3</th>\n",
       "      <td>0.0</td>\n",
       "      <td>COVID-19</td>\n",
       "    </tr>\n",
       "    <tr>\n",
       "      <th>4</th>\n",
       "      <td>0.0</td>\n",
       "      <td>COVID-19</td>\n",
       "    </tr>\n",
       "  </tbody>\n",
       "</table>\n",
       "</div>"
      ],
      "text/plain": [
       "   label class_name\n",
       "0    0.0  COVID-19 \n",
       "1    0.0  COVID-19 \n",
       "2    0.0  COVID-19 \n",
       "3    0.0  COVID-19 \n",
       "4    0.0  COVID-19 "
      ]
     },
     "execution_count": 18,
     "metadata": {},
     "output_type": "execute_result"
    }
   ],
   "source": [
    "val_label_df.head()"
   ]
  },
  {
   "cell_type": "markdown",
   "id": "975cf821",
   "metadata": {},
   "source": [
    "## visualization of the images"
   ]
  },
  {
   "cell_type": "code",
   "execution_count": 25,
   "id": "dacbfe5b",
   "metadata": {},
   "outputs": [
    {
     "data": {
      "text/plain": [
       "Text(0.5, 1.0, 'Validation Image')"
      ]
     },
     "execution_count": 25,
     "metadata": {},
     "output_type": "execute_result"
    },
    {
     "data": {
      "image/png": "[encoded data removed]",
      "text/plain": [
       "<Figure size 1440x360 with 3 Axes>"
      ]
     },
     "metadata": {
      "needs_background": "light"
     },
     "output_type": "display_data"
    }
   ],
   "source": [
    "## check the distribution of the classes for each dataset(train, test and validation) using histogram\n",
    "fig, (ax1,ax2,ax3) = plt.subplots(nrows=1, ncols=3, figsize=(20,5))\n",
    "sns.countplot(data=train_label_df, x='class_name', orient='h', ax=ax1, color='lightgreen',\n",
    "              order = train_label_df['class_name'].value_counts().index)\n",
    "ax1.set_title('Train Image')\n",
    "sns.countplot(data=test_label_df, x='class_name', orient='h', ax=ax2, color='purple',\n",
    "              order = test_label_df['class_name'].value_counts().index)\n",
    "ax2.set_title('TEST Image')\n",
    "sns.countplot(data=val_label_df, x='class_name', orient='h', ax=ax3, color='lightblue',\n",
    "              order = val_label_df['class_name'].value_counts().index)\n",
    "ax3.set_title('Validation Image')\n",
    "\n",
    "## All the data sets have the same distribution of the classes"
   ]
  },
  {
   "cell_type": "code",
   "execution_count": 26,
   "id": "f3871dac",
   "metadata": {},
   "outputs": [
    {
     "data": {
      "text/plain": [
       "Normal             6115\n",
       "Viral Pneumonia    4438\n",
       "Lung-Opacity       3607\n",
       "Tuberculosis       2938\n",
       "COVID-19           2512\n",
       "Name: class_name, dtype: int64"
      ]
     },
     "execution_count": 26,
     "metadata": {},
     "output_type": "execute_result"
    }
   ],
   "source": [
    "## get the number of each class in each dataframe\n",
    "##train data\n",
    "train_label_df['class_name'].value_counts()"
   ]
  },
  {
   "cell_type": "code",
   "execution_count": 27,
   "id": "6121da3f",
   "metadata": {},
   "outputs": [
    {
     "data": {
      "text/plain": [
       "Normal             2039\n",
       "Viral Pneumonia    1480\n",
       "Lung-Opacity       1203\n",
       "Tuberculosis        980\n",
       "COVID-19            838\n",
       "Name: class_name, dtype: int64"
      ]
     },
     "execution_count": 27,
     "metadata": {},
     "output_type": "execute_result"
    }
   ],
   "source": [
    "##test data\n",
    "test_label_df['class_name'].value_counts()"
   ]
  },
  {
   "cell_type": "code",
   "execution_count": 28,
   "id": "626ec6d9",
   "metadata": {},
   "outputs": [
    {
     "data": {
      "text/plain": [
       "Normal             2038\n",
       "Viral Pneumonia    1479\n",
       "Lung-Opacity       1202\n",
       "Tuberculosis        979\n",
       "COVID-19            836\n",
       "Name: class_name, dtype: int64"
      ]
     },
     "execution_count": 28,
     "metadata": {},
     "output_type": "execute_result"
    }
   ],
   "source": [
    "##validation data\n",
    "val_label_df['class_name'].value_counts()"
   ]
  },
  {
   "cell_type": "code",
   "execution_count": null,
   "id": "22577368",
   "metadata": {},
   "outputs": [],
   "source": [
    "# get the index of the label, we will use it for the visualization of the images\n",
    "train_index = train_label_df.index\n",
    "test_index = test_label_df.index\n",
    "val_index = val_label_df.index"
   ]
  },
  {
   "cell_type": "markdown",
   "id": "f0037b33",
   "metadata": {},
   "source": [
    "## Train images"
   ]
  },
  {
   "cell_type": "code",
   "execution_count": null,
   "id": "8d99941e",
   "metadata": {},
   "outputs": [],
   "source": [
    "##Visulaize different images from different classes\n",
    "f,ax= plt.subplots(5, 5, figsize=(18, 18),\n",
    "     subplot_kw={'xticks': [], 'yticks': []})\n",
    "#train\n",
    "for i in range(5):\n",
    "    #coveid_19\n",
    "    ax[0, i].imshow(img_content_train[i,:,:,:])\n",
    "    #Lung-Opacity\n",
    "    ax[1, i].imshow(img_content_train[i+2512,:,:,:])\n",
    "    #Normal\n",
    "    ax[2, i].imshow(img_content_train[i+6119,:,:,:])\n",
    "    #Viral Pneumonia\n",
    "    ax[3, i].imshow(img_content_train[i+12234,:,:,:])\n",
    "    #Tuberculosis\n",
    "    ax[4, i].imshow(img_content_train[i+16672,:,:,:])\n",
    "ax[0, 0].set_ylabel('COVID-19')\n",
    "ax[1, 0].set_ylabel('Lung-Opacity')\n",
    "ax[2, 0].set_ylabel('Normal')\n",
    "ax[3, 0].set_ylabel('Viral Pneumonia')\n",
    "ax[4, 0].set_ylabel('Tuberculosis')\n",
    "ax[0,2].set_title('Train Image', color='green')"
   ]
  },
  {
   "cell_type": "markdown",
   "id": "d7598ed7",
   "metadata": {},
   "source": [
    "## Test images"
   ]
  },
  {
   "cell_type": "code",
   "execution_count": null,
   "id": "cda58f7b",
   "metadata": {},
   "outputs": [],
   "source": [
    "f,ax= plt.subplots(5, 5, figsize=(18, 18),\n",
    "     subplot_kw={'xticks': [], 'yticks': []})\n",
    "#test\n",
    "for i in range(5):\n",
    "    #coveid_19\n",
    "    ax[0, i].imshow(img_content_test[i,:,:,:])\n",
    "    #Lung-Opacity\n",
    "    ax[1, i].imshow(img_content_test[i+838,:,:,:])\n",
    "    #Normal\n",
    "    ax[2, i].imshow(img_content_test[i+2041,:,:,:])\n",
    "    #Viral Pneumonia\n",
    "    ax[3, i].imshow(img_content_test[i+4080,:,:,:])\n",
    "    #Tuberculosis\n",
    "    ax[4, i].imshow(img_content_test[i+5560,:,:,:])\n",
    "ax[0, 0].set_ylabel('COVID-19')\n",
    "ax[1, 0].set_ylabel('Lung-Opacity')\n",
    "ax[2, 0].set_ylabel('Normal')\n",
    "ax[3, 0].set_ylabel('Viral Pneumonia')\n",
    "ax[4, 0].set_ylabel('Tuberculosis')\n",
    "ax[0,2].set_title('Test Image', color='green')"
   ]
  },
  {
   "cell_type": "markdown",
   "id": "61ca52db",
   "metadata": {},
   "source": [
    "## Validation images"
   ]
  },
  {
   "cell_type": "code",
   "execution_count": null,
   "id": "15195b2d",
   "metadata": {},
   "outputs": [],
   "source": [
    "f,ax= plt.subplots(5, 5, figsize=(18, 18),\n",
    "     subplot_kw={'xticks': [], 'yticks': []})\n",
    "#train\n",
    "for i in range(5):\n",
    "    #coveid_19\n",
    "    ax[0, i].imshow(img_content_val[i,:,:,:])\n",
    "    #Lung-Opacity\n",
    "    ax[1, i].imshow(img_content_val[i+836,:,:,:])\n",
    "    #Normal\n",
    "    ax[2, i].imshow(img_content_val[i+2038,:,:,:])\n",
    "    #Viral Pneumonia\n",
    "    ax[3, i].imshow(img_content_val[i+4076,:,:,:])\n",
    "    #Tuberculosis\n",
    "    ax[4, i].imshow(img_content_val[i+5555,:,:,:])\n",
    "ax[0, 0].set_ylabel('COVID-19')\n",
    "ax[1, 0].set_ylabel('Lung-Opacity')\n",
    "ax[2, 0].set_ylabel('Normal')\n",
    "ax[3, 0].set_ylabel('Viral Pneumonia')\n",
    "ax[4, 0].set_ylabel('Tuberculosis')\n",
    "ax[0,2].set_title('val Image', color='green')"
   ]
  },
  {
   "cell_type": "code",
   "execution_count": null,
   "id": "060f7470",
   "metadata": {},
   "outputs": [],
   "source": []
  },
  {
   "cell_type": "code",
   "execution_count": null,
   "id": "4cf1ef60",
   "metadata": {},
   "outputs": [],
   "source": []
  }
 ],
 "metadata": {
  "kernelspec": {
   "display_name": "Python 3",
   "language": "python",
   "name": "python3"
  },
  "language_info": {
   "codemirror_mode": {
    "name": "ipython",
    "version": 3
   },
   "file_extension": ".py",
   "mimetype": "text/x-python",
   "name": "python",
   "nbconvert_exporter": "python",
   "pygments_lexer": "ipython3",
   "version": "3.8.8"
  }
 },
 "nbformat": 4,
 "nbformat_minor": 5
}
