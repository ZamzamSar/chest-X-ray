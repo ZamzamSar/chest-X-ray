{
 "cells": [
  {
   "cell_type": "markdown",
   "id": "897a74e4",
   "metadata": {},
   "source": [
    "# Introduction "
   ]
  },
  {
   "cell_type": "markdown",
   "id": "9b987b59",
   "metadata": {},
   "source": [
    "> ## Introduction about Machine learning\n",
    "\n",
    "Machine learning has been utilized during the past few years to learn from data and build model for different usages. One of the field where machine learning can be beneficial is the classification field in every life matter. For classification we aim to classify and label different classes from each other based on their features. These features could be pixels values of an image for different classes.\n",
    "\n",
    "In our project we are aiming to utilize different machine learning method to classify the chest x-ray image and help with diagnose the chest disease. Our main focus is the COVID-19, we are going to use chest-x-ray for 5 different chest diseases  and use  the machine learning classification methods to classify these diseases based on  the x-ray images.\n",
    "\n",
    "Coming up with a powerful model with high accuracy in classifying the diseases can be very beneficial for the hospital and the health care sector as it can decrease the wasted time of the doctors on looking at the chest x-ray of non-critical cases and only look at the critical cases."
   ]
  },
  {
   "cell_type": "markdown",
   "id": "1b8d0006",
   "metadata": {},
   "source": [
    "> # Chest X-ray"
   ]
  },
  {
   "cell_type": "markdown",
   "id": "f447ed40",
   "metadata": {},
   "source": [
    "**A chest X-ray is an imaging test that uses X-rays to look at the structures and organs in your chest. It can help your healthcare provider see how well your lungs and heart are working. Certain heart problems can cause changes in your lungs. Certain diseases can cause changes in the structure of the heart or lungs. And chest x-ray can diagnose many conditions and diseases such as:** \n",
    "pleurisy, pulmonary edema, pneumonia, bronchitis, cysts, tumors, cancers, asthma, pericarditis, cardiomegaly, heart failure, pneumothorax, and fractures."
   ]
  },
  {
   "cell_type": "markdown",
   "id": "ba166a54",
   "metadata": {},
   "source": [
    "### Assessing the airways\n",
    "Start your assessment of every chest X-ray by looking at the airways. The trachea should be central or slightly to the right at the level of the aortic knuckle.If the trachea is deviated, it is important to establish if this is because of patient rotation or if it is due to pathology.\n",
    "### Trachea and major bronchi\n",
    "The large airways are visible on most good quality chest X-rays. They contain air and so are of lower density (blacker) than the surrounding soft tissues. The trachea branches at the carina into the left and right main bronchi, which can be followed as they branch beyond the hila into the lungs.\n",
    "### Lung zones\n",
    "For the purpose of description the lungs are divided into zones: upper, middle and lower. Each of these zones occupies approximately one third of the height of the lungs.The lung zones do not equate to the lung lobes. For example, the lower zone on the right comprises the middle and lower lobes.\n",
    "### Pleura and pleural spaces\n",
    "The pleura and pleural spaces are only clearly visible when abnormal.\n",
    "### Diaphragm\n",
    "The diaphragm separates the lungs from the abdominal organs. The abdominal organs are more dense (whiter) than the air-filled lungs (blacker).\n",
    "### Heart size and contours\n",
    "Heart size is not assessed by an absolute measurement, but rather is measured in relation to the total thoracic width - the Cardio-Thoracic Ratio (CTR).\n",
    "### Soft tissues\n",
    "On every chest X-ray check the soft tissues, especially around the neck, the thoracic wall, and the breasts.\n",
    "### Bones\n",
    "Bones are the densest structures visible on a normal chest X-ray. Despite this it is easy to overlook important abnormalities of the bones which may be very subtle."
   ]
  },
  {
   "cell_type": "markdown",
   "id": "a45a7791",
   "metadata": {},
   "source": [
    "># Why might I need a chest X-ray?\n",
    "\n",
    "- Enlarged heart which can mean you have a congenital heart defect or cardiomyopathy\n",
    "\n",
    "- Fluid in the space between your lungs and your chest wall (pleural effusion)\n",
    "\n",
    "- Pneumonia or another lung problem\n",
    "\n",
    "- Ballooning of the aorta or another great blood vessel (aneurysm)\n",
    "\n",
    "- Broken bone\n",
    "\n",
    "- Hardening of a heart valve or aorta (calcification)\n",
    "\n",
    "- Tumors or cancer\n",
    "\n",
    "- Diaphragm that has moved out of place (hernia)\n",
    "\n",
    "- Inflammation of the lining of the lung (pleuritis)\n",
    "\n",
    "- Fluid in the lungs (pulmonary edema) which can mean you have congestive heart failure\n",
    "\n",
    "**You may also need a chest X-ray:**\n",
    "\n",
    "- As part of a complete physical exam or before you have surgery\n",
    "\n",
    "- To check on symptoms related to the heart or lungs\n",
    "\n",
    "- To see how well treatment if working or how a disease is progressing\n",
    "\n",
    "- To check on your lungs and chest cavity after surgery\n",
    "\n",
    "- To see where implanted pacemaker wires and other internal devices are located"
   ]
  },
  {
   "cell_type": "markdown",
   "id": "94a55c21",
   "metadata": {},
   "source": [
    "># How do I get ready for a chest X-ray?\n",
    "\n",
    "- Your healthcare provider will explain the procedure to you. Ask any questions you have about the procedure.\n",
    "\n",
    "- You may be asked to sign a consent form that gives permission to do the procedure. Read the form carefully and ask questions if anything is not clear.\n",
    "\n",
    "- You usually do not need to stop eating or drinking before the test. You also usually will not need medicine to help you relax (sedation).\n",
    "\n",
    "- Tell your healthcare provider if you are pregnant or think you may be pregnant.\n",
    "\n",
    "- Wear clothing that you can easily take off. Or wear clothing that lets the radiologist reach your chest.\n",
    "\n",
    "- Tell your healthcare provider if you have any body piercings on your chest.\n",
    "\n",
    "- Follow any other instructions your healthcare provider gives you to get ready."
   ]
  },
  {
   "cell_type": "markdown",
   "id": "133edc03",
   "metadata": {},
   "source": [
    "## Have a look to some classes of chest X-ray below"
   ]
  },
  {
   "cell_type": "markdown",
   "id": "2312b27d",
   "metadata": {},
   "source": [
    "1- **Normal chest X-ray** \n",
    "![Normal](./assets/Normal_chest_x-ray.PNG)\n",
    "\n",
    "2- **Covid-19 chest X-ray** \n",
    "![Covid-19](./assets/Covid-19_chest_x-ray.PNG)\n",
    "\n",
    "3- **Covid-19 chest X-ray** \n",
    "![Lung-Opacity](./assets/Lung-Opacity_chest_x-ray.PNG)\n",
    "\n",
    "4- **Covid-19 chest X-ray** \n",
    "![Viral Pneumonia](./assets/Viral_Pneumonia_chest_x-ray.PNG)\n",
    "\n",
    "3- **Covid-19 chest X-ray** \n",
    "![Tuberculosis ](./assets/Tuberculosis_chest_x-ray.PNG)"
   ]
  },
  {
   "cell_type": "markdown",
   "id": "48619188",
   "metadata": {},
   "source": [
    "> ### Source\n",
    "\n",
    "- [Radiology masterclass](https://www.radiologymasterclass.co.uk/)\n",
    "\n",
    "- [Health](https://www.hopkinsmedicine.org/health/treatment-tests-and-therapies/chest-xray)\n"
   ]
  }
 ],
 "metadata": {
  "kernelspec": {
   "display_name": "Python 3",
   "language": "python",
   "name": "python3"
  },
  "language_info": {
   "codemirror_mode": {
    "name": "ipython",
    "version": 3
   },
   "file_extension": ".py",
   "mimetype": "text/x-python",
   "name": "python",
   "nbconvert_exporter": "python",
   "pygments_lexer": "ipython3",
   "version": "3.8.8"
  }
 },
 "nbformat": 4,
 "nbformat_minor": 5
}
