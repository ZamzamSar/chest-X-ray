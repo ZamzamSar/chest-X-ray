{
 "cells": [
  {
   "cell_type": "markdown",
   "id": "cc902ce5",
   "metadata": {},
   "source": [
    "## Chest X-ray\n",
    "**By : Zamzam Alsarayrah**"
   ]
  },
  {
   "cell_type": "code",
   "execution_count": 1,
   "id": "b45fb202",
   "metadata": {},
   "outputs": [],
   "source": [
    "# Import libraries and modules\n",
    "import matplotlib.pyplot as plt\n",
    "import matplotlib.ticker as ticker\n",
    "import seaborn as sns\n",
    "import numpy as np\n",
    "import pandas as pd\n",
    "from PIL import Image\n",
    "from tensorflow.keras.models import Sequential\n",
    "from tensorflow.keras.layers import Dense, Dropout, Flatten, Conv2D, MaxPooling2D, Input, GlobalAveragePooling2D, BatchNormalization\n",
    "from tensorflow.keras import utils\n",
    "from sklearn.model_selection import train_test_split\n",
    "from tensorflow.keras.datasets import mnist\n",
    "from tensorflow.keras.preprocessing.image import ImageDataGenerator\n",
    "import tensorflow as tf, keras\n",
    "from keras import Model\n",
    "from tensorflow.keras.applications import EfficientNetB3, VGG16, VGG19, ResNet50, InceptionV3\n",
    "from tensorflow.keras.applications.vgg16 import preprocess_input\n",
    "from keras.callbacks import ModelCheckpoint, EarlyStopping\n",
    "from sklearn.metrics import classification_report, confusion_matrix, plot_confusion_matrix\n",
    "from pathlib import Path as path\n",
    "from random import randint\n",
    "from sklearn.preprocessing import MinMaxScaler\n",
    "from sklearn.decomposition import PCA\n",
    "from sklearn.model_selection import GridSearchCV\n",
    "from sklearn.model_selection import RandomizedSearchCV\n",
    "from sklearn.linear_model import LogisticRegression\n",
    "from sklearn.ensemble import RandomForestClassifier\n",
    "import pickle\n",
    "# Set a random seed.\n",
    "##install cv2\n",
    "#pip install opencv-python-headless\n",
    "#pip install opencv-contrib-python-headless\n",
    "import os"
   ]
  },
  {
   "cell_type": "code",
   "execution_count": 2,
   "id": "22afa257",
   "metadata": {},
   "outputs": [],
   "source": [
    "# load the Dataset\n",
    "data_train = np.load(\"dataverse_files (1)/Dataset5_raw_train.npz\")\n",
    "data_test = np.load(\"dataverse_files (1)/Dataset5_raw_test.npz\")\n",
    "data_val = np.load(\"dataverse_files (1)/Dataset5_raw_val.npz\")"
   ]
  },
  {
   "cell_type": "code",
   "execution_count": 3,
   "id": "aad091c2",
   "metadata": {},
   "outputs": [],
   "source": [
    "# Extract the images' pixels\n",
    "img_content_train = (data_train['image']).astype('uint8')\n",
    "img_content_test = (data_test['image']).astype('uint8')\n",
    "img_content_val = (data_val['image']).astype('uint8')"
   ]
  },
  {
   "cell_type": "code",
   "execution_count": 4,
   "id": "16b9c82f",
   "metadata": {},
   "outputs": [],
   "source": [
    "# extract the images' labels\n",
    "label_train = data_train['image_label']\n",
    "label_test = data_test['image_label']\n",
    "label_val = data_val['image_label']"
   ]
  },
  {
   "cell_type": "markdown",
   "id": "ccf287ab",
   "metadata": {},
   "source": [
    "## Base Model\n",
    "For the base model we are going to input the image to a simple CNN with the structure of 2 CNN layers, 2 Maxpooling, 2 fully connected dense layers with relue activation and Droop\n",
    "out with P =0.2. The classification will be done using the final dense layer with softmax activation function."
   ]
  },
  {
   "cell_type": "markdown",
   "id": "1e66a636",
   "metadata": {},
   "source": [
    "## Convolutional Neural Networks(CNN)"
   ]
  },
  {
   "cell_type": "code",
   "execution_count": 5,
   "id": "afffd624",
   "metadata": {},
   "outputs": [],
   "source": [
    "##Pre_proccessing of the data( scale and reshape)\n",
    "# scale \n",
    "X_train = img_content_train.astype('float32')/255\n",
    "X_test = img_content_test.astype('float32')/255\n",
    "X_val = img_content_val.astype('float32')/255"
   ]
  },
  {
   "cell_type": "code",
   "execution_count": 6,
   "id": "61924744",
   "metadata": {},
   "outputs": [],
   "source": [
    "# reshape\n",
    "X_train = X_train.reshape(X_train.shape[0], 224, 224, 3)\n",
    "X_test = X_test.reshape(X_test.shape[0], 224, 224, 3)\n",
    "X_val = X_val.reshape(X_val.shape[0], 224, 224, 3)"
   ]
  },
  {
   "cell_type": "code",
   "execution_count": 7,
   "id": "0eb9444c",
   "metadata": {},
   "outputs": [],
   "source": [
    "##Pre-process the labels \n",
    "y_train = utils.to_categorical(label_train, 5)\n",
    "y_test = utils.to_categorical(label_test, 5)\n",
    "y_val = utils.to_categorical(label_val, 5)"
   ]
  },
  {
   "cell_type": "code",
   "execution_count": 10,
   "id": "5f6c1319",
   "metadata": {},
   "outputs": [],
   "source": [
    "cnn = Sequential()\n",
    "# Add a Input Layer - Convolutional layer.\n",
    "cnn.add(Conv2D(filters = 50,       #number of filters to use\n",
    "                  kernel_size = (3, 3),   #dimensions of the filters\n",
    "                  activation = 'relu',    #activation function\n",
    "                  input_shape = (224, 224, 3)))  #shape of image\n",
    "# dimensions of region of pooling\n",
    "cnn.add(MaxPooling2D(pool_size = (2, 2)))   #filter dimensions\n",
    "    \n",
    "#Convolutional layer\n",
    "cnn.add(Conv2D(16, kernel_size = (3, 3), activation = 'relu'))\n",
    "    \n",
    "#pooling layer\n",
    "cnn.add(MaxPooling2D(pool_size = (2, 2)))\n",
    "    \n",
    "#dense layers\n",
    "cnn.add(Flatten())\n",
    "# Add a densely-connected layer with 128 neurons.\n",
    "cnn.add(Dense(128, activation = 'relu'))\n",
    "cnn.add(Dropout(0.2))\n",
    "cnn.add(Dense(64, activation = 'relu'))\n",
    "cnn.add(Dropout(0.2))\n",
    "cnn.add(Dense(5, activation = 'softmax')) #add final layer with 10 nerous\n",
    "    \n",
    "# Compile model\n",
    "cnn.compile(loss = 'categorical_crossentropy',\n",
    "               optimizer = 'adam',\n",
    "               metrics = ['accuracy'])"
   ]
  },
  {
   "cell_type": "code",
   "execution_count": 11,
   "id": "7f1f516f",
   "metadata": {},
   "outputs": [
    {
     "name": "stdout",
     "output_type": "stream",
     "text": [
      "Epoch 1/15\n",
      "77/77 [==============================] - 591s 8s/step - loss: 1.3444 - accuracy: 0.4588 - val_loss: 0.9956 - val_accuracy: 0.6177\n",
      "Epoch 2/15\n",
      "77/77 [==============================] - 592s 8s/step - loss: 1.0420 - accuracy: 0.5997 - val_loss: 0.8597 - val_accuracy: 0.6817\n",
      "Epoch 3/15\n",
      "77/77 [==============================] - 577s 8s/step - loss: 0.8511 - accuracy: 0.6812 - val_loss: 0.7377 - val_accuracy: 0.7176\n",
      "Epoch 4/15\n",
      "77/77 [==============================] - 578s 8s/step - loss: 0.8376 - accuracy: 0.6876 - val_loss: 0.7425 - val_accuracy: 0.7248\n",
      "Epoch 5/15\n",
      "77/77 [==============================] - 568s 7s/step - loss: 0.7059 - accuracy: 0.7394 - val_loss: 0.6914 - val_accuracy: 0.7465\n",
      "Epoch 6/15\n",
      "77/77 [==============================] - 574s 7s/step - loss: 0.6349 - accuracy: 0.7673 - val_loss: 0.7855 - val_accuracy: 0.7015\n",
      "Epoch 7/15\n",
      "77/77 [==============================] - 566s 7s/step - loss: 0.6023 - accuracy: 0.7792 - val_loss: 0.6588 - val_accuracy: 0.7667\n",
      "Epoch 8/15\n",
      "77/77 [==============================] - 565s 7s/step - loss: 0.4943 - accuracy: 0.8188 - val_loss: 0.5715 - val_accuracy: 0.7985\n",
      "Epoch 9/15\n",
      "77/77 [==============================] - 570s 7s/step - loss: 0.4017 - accuracy: 0.8561 - val_loss: 0.5471 - val_accuracy: 0.8121\n",
      "Epoch 10/15\n",
      "77/77 [==============================] - 561s 7s/step - loss: 0.3371 - accuracy: 0.8806 - val_loss: 0.5857 - val_accuracy: 0.8069\n",
      "Epoch 11/15\n",
      "77/77 [==============================] - 566s 7s/step - loss: 0.3258 - accuracy: 0.8821 - val_loss: 0.5946 - val_accuracy: 0.8029\n",
      "Epoch 12/15\n",
      "77/77 [==============================] - 581s 8s/step - loss: 0.2618 - accuracy: 0.9045 - val_loss: 0.5548 - val_accuracy: 0.8272\n",
      "Epoch 13/15\n",
      "77/77 [==============================] - 550s 7s/step - loss: 0.2210 - accuracy: 0.9192 - val_loss: 0.5766 - val_accuracy: 0.8277\n",
      "Epoch 14/15\n",
      "77/77 [==============================] - 539s 7s/step - loss: 0.1966 - accuracy: 0.9308 - val_loss: 0.6217 - val_accuracy: 0.8229\n",
      "Epoch 15/15\n",
      "77/77 [==============================] - 547s 7s/step - loss: 0.1895 - accuracy: 0.9320 - val_loss: 0.6487 - val_accuracy: 0.8089\n"
     ]
    }
   ],
   "source": [
    "# Fit model on training data.\n",
    "history_cnn = cnn.fit(X_train, y_train, validation_data = (X_test, y_test),\n",
    "                   batch_size = 256, # 19610/256 = 235 weight updates per epoch\n",
    "                  epochs = 15,\n",
    "                   verbose = 1) # verbose how many info you need to see not important"
   ]
  },
  {
   "cell_type": "markdown",
   "id": "f0199ca1",
   "metadata": {},
   "source": [
    "# Save the model "
   ]
  },
  {
   "cell_type": "code",
   "execution_count": 24,
   "id": "8e662a96",
   "metadata": {},
   "outputs": [],
   "source": [
    "CNN_json = cnn.to_json()"
   ]
  },
  {
   "cell_type": "code",
   "execution_count": 26,
   "id": "9c144243",
   "metadata": {},
   "outputs": [],
   "source": [
    "with open('./models/CNN_json', 'w') as json_file:\n",
    "     json_file.write(CNN_json)"
   ]
  },
  {
   "cell_type": "code",
   "execution_count": 28,
   "id": "f2264d80",
   "metadata": {},
   "outputs": [],
   "source": [
    "cnn.save_weights(\"models/cnn.h5\")"
   ]
  },
  {
   "cell_type": "code",
   "execution_count": 15,
   "id": "bb0bac43",
   "metadata": {},
   "outputs": [],
   "source": [
    "def model_eval(cnn, history, data_train, data_test):\n",
    "    # evaluate the model\n",
    "    print(f'Evaluating Training Dataset')\n",
    "    train_scores = cnn.evaluate(data_train, verbose=0)\n",
    "    \n",
    "    print(f'Evaluating Validation Dataset')\n",
    "    val_scores = cnn.evaluate(data_test, verbose=0)\n",
    "    \n",
    "    # print(f'Evaluating Test Dataset')\n",
    "    # test_scores = cnn.evaluate(test_images, verbose=0)\n",
    "    \n",
    "    print(\"Training Accuracy Score   = %.2f%%\" % (train_scores[1]*100))\n",
    "    print(\"Validation Accuracy Score = %.2f%%\" % (val_scores[1]*100))\n",
    "    # print(\"Testing Accuracy Score    = %.2f%%\" % (test_scores[1]*100))\n",
    "    \n",
    "    fig, (ax1, ax2) = plt.subplots(nrows=1, ncols=2, figsize=(20,5))\n",
    "    train_loss = history.history['loss']\n",
    "    val_loss = history.history['val_loss']\n",
    "    train_accuracy = history.history['accuracy']\n",
    "    val_accuracy = history.history['val_accuracy']\n",
    "    labels = ['Training', 'Validation']\n",
    "\n",
    "    sns.lineplot(data=train_loss, ax=ax1)\n",
    "    sns.lineplot(data=val_loss, ax=ax1)\n",
    "    ax1.set_title('Training vs Validation Loss')\n",
    "    ax1.set_xlabel('Epochs')\n",
    "    ax1.set_ylabel('Loss')\n",
    "    ax1.xaxis.set_major_locator(ticker.MultipleLocator(1))\n",
    "    ax1.legend(labels)\n",
    "\n",
    "    sns.lineplot(data=train_accuracy, ax=ax2)\n",
    "    sns.lineplot(data=val_accuracy, ax=ax2)\n",
    "    ax2.set_title('Training vs Validation Accuracy')\n",
    "    ax2.set_xlabel('Epochs')\n",
    "    ax2.set_ylabel('Accuracy')\n",
    "    ax2.xaxis.set_major_locator(ticker.MultipleLocator(1))\n",
    "    ax2.legend(labels)\n",
    "\n",
    "\n",
    "    plt.subplots_adjust(wspace=0.15)\n",
    "    # return fig\n",
    "    \n",
    "# take from Group project"
   ]
  },
  {
   "cell_type": "code",
   "execution_count": 16,
   "id": "927aefce",
   "metadata": {},
   "outputs": [
    {
     "name": "stdout",
     "output_type": "stream",
     "text": [
      "Evaluating Training Dataset\n",
      "Evaluating Validation Dataset\n",
      "Training Accuracy Score   = 0.00%\n",
      "Validation Accuracy Score = 0.00%\n"
     ]
    },
    {
     "data": {
      "image/png": "[encoded data removed]",
      "text/plain": [
       "<Figure size 1440x360 with 2 Axes>"
      ]
     },
     "metadata": {
      "needs_background": "light"
     },
     "output_type": "display_data"
    }
   ],
   "source": [
    "model_eval(cnn, history_cnn, X_train, X_test)"
   ]
  },
  {
   "cell_type": "code",
   "execution_count": 17,
   "id": "809983a5",
   "metadata": {},
   "outputs": [
    {
     "name": "stdout",
     "output_type": "stream",
     "text": [
      "Model: \"sequential_1\"\n",
      "_________________________________________________________________\n",
      "Layer (type)                 Output Shape              Param #   \n",
      "=================================================================\n",
      "conv2d_2 (Conv2D)            (None, 222, 222, 50)      1400      \n",
      "_________________________________________________________________\n",
      "max_pooling2d_2 (MaxPooling2 (None, 111, 111, 50)      0         \n",
      "_________________________________________________________________\n",
      "conv2d_3 (Conv2D)            (None, 109, 109, 16)      7216      \n",
      "_________________________________________________________________\n",
      "max_pooling2d_3 (MaxPooling2 (None, 54, 54, 16)        0         \n",
      "_________________________________________________________________\n",
      "flatten_1 (Flatten)          (None, 46656)             0         \n",
      "_________________________________________________________________\n",
      "dense_3 (Dense)              (None, 128)               5972096   \n",
      "_________________________________________________________________\n",
      "dropout (Dropout)            (None, 128)               0         \n",
      "_________________________________________________________________\n",
      "dense_4 (Dense)              (None, 64)                8256      \n",
      "_________________________________________________________________\n",
      "dropout_1 (Dropout)          (None, 64)                0         \n",
      "_________________________________________________________________\n",
      "dense_5 (Dense)              (None, 5)                 325       \n",
      "=================================================================\n",
      "Total params: 5,989,293\n",
      "Trainable params: 5,989,293\n",
      "Non-trainable params: 0\n",
      "_________________________________________________________________\n"
     ]
    }
   ],
   "source": [
    "cnn.summary()"
   ]
  },
  {
   "cell_type": "markdown",
   "id": "d8d54fd6",
   "metadata": {},
   "source": [
    "## Feature Extraction\n",
    "For feature extraction we are going to use two methods, one using PCA \n",
    "and the other using a pretrained CNN model (Vgg16)."
   ]
  },
  {
   "cell_type": "markdown",
   "id": "7e32894a",
   "metadata": {},
   "source": [
    "Feature Extraction using PCA "
   ]
  },
  {
   "cell_type": "code",
   "execution_count": 5,
   "id": "0bfd3c01",
   "metadata": {},
   "outputs": [],
   "source": [
    "#Function to split the images into three arrayes (red,green, blue)\n",
    "def image_splitter(images):\n",
    "  #spilt the image(green, red, blue)\n",
    "    red, green, blue = np.array_split(images, 3, axis=3)\n",
    "  # flatten the channels arrays as one row for each image \n",
    "    #red\n",
    "    red_flat = red.reshape(len(red),np.prod(red.shape[1:]))\n",
    "    green_flat = green.reshape(len(green),np.prod(green.shape[1:]))\n",
    "    blue_flat = blue.reshape(len(blue),np.prod(blue.shape[1:]))\n",
    "    return red_flat, green_flat, blue_flat"
   ]
  },
  {
   "cell_type": "code",
   "execution_count": 6,
   "id": "6eecf5b2",
   "metadata": {},
   "outputs": [],
   "source": [
    "#split the train images to the three channels (red, green,blue)we will get 3 arrays each with size(number of train images,50176)\n",
    "#50176 is the number of features for each channel \n",
    "red_train, green_train, blue_train = image_splitter(img_content_train)"
   ]
  },
  {
   "cell_type": "markdown",
   "id": "99caa415",
   "metadata": {},
   "source": [
    "Apply PCA on the train image with number of component = 1000 to check what is the suitable number of component to use, and it covers all the variance in the features."
   ]
  },
  {
   "cell_type": "code",
   "execution_count": 7,
   "id": "f73003b9",
   "metadata": {},
   "outputs": [],
   "source": [
    "# before apply the PCA we have to scale the data \n",
    "#scale the pixel value\n",
    "#red\n",
    "s_red = MinMaxScaler().fit(red_train)\n",
    "red_train_s = s_red.transform(red_train)\n",
    "#green\n",
    "s_green = MinMaxScaler().fit(green_train)\n",
    "green_train_s = s_green.transform(green_train)\n",
    "#blue\n",
    "s_blue = MinMaxScaler().fit(blue_train)\n",
    "blue_train_s = s_blue.transform(blue_train)"
   ]
  },
  {
   "cell_type": "code",
   "execution_count": 8,
   "id": "3150ce07",
   "metadata": {},
   "outputs": [],
   "source": [
    "# apply the PCA with 1000 components on the scaled train data\n",
    "pca = PCA(n_components=1000)\n",
    "#red    \n",
    "red_pca = pca.fit(red_train_s)\n",
    "#green\n",
    "green_pca = pca.fit(green_train_s)\n",
    "#blue\n",
    "blue_pca = pca.fit(blue_train_s)"
   ]
  },
  {
   "cell_type": "code",
   "execution_count": 9,
   "id": "ad781d75",
   "metadata": {},
   "outputs": [
    {
     "data": {
      "image/png": "[encoded data removed]",
      "text/plain": [
       "<Figure size 432x288 with 1 Axes>"
      ]
     },
     "metadata": {
      "needs_background": "light"
     },
     "output_type": "display_data"
    }
   ],
   "source": [
    "# Plot the explained_variance_ratio for the applied PCA to check if the number of componont is sufficent to cover at least 90% \n",
    "# of the variance in the data\n",
    "plt.plot(np.cumsum(red_pca.explained_variance_ratio_), label = \"red_pca\")\n",
    "plt.plot(np.cumsum(green_pca.explained_variance_ratio_), label = \"green_pca\")\n",
    "plt.plot(np.cumsum(blue_pca.explained_variance_ratio_), label = \"blue_pca\")\n",
    "plt.xlabel(\"Number of components\")\n",
    "plt.ylabel(\"Proportion of variance explained\")\n",
    "plt.legend()\n",
    "plt.show()"
   ]
  },
  {
   "cell_type": "markdown",
   "id": "c7febd8b",
   "metadata": {},
   "source": [
    "**As seen from the plot above the used number of components is sufficient  to explain more than 90% of the variance in the train images.** "
   ]
  },
  {
   "cell_type": "code",
   "execution_count": 10,
   "id": "cc18a363",
   "metadata": {},
   "outputs": [],
   "source": [
    "# Fit the PCA on the training, test, val, but first split them and apply the scalar then fit \n",
    "red_test, green_test, blue_test = image_splitter(img_content_test)\n",
    "red_val, green_val, blue_val = image_splitter(img_content_val)\n",
    "red_test_s = s_red.transform(red_test)\n",
    "green_test_s = s_green.transform(green_test)\n",
    "blue_test_s = s_blue.transform(blue_test)\n",
    "red_val_s = s_red.transform(red_val)\n",
    "green_val_s = s_green.transform(green_val)\n",
    "blue_val_s = s_blue.transform(blue_val)"
   ]
  },
  {
   "cell_type": "code",
   "execution_count": 11,
   "id": "60cd6e3b",
   "metadata": {},
   "outputs": [],
   "source": [
    "##Fit the PCA\n",
    "##train\n",
    "train_pca_red= red_pca.transform(red_train_s)\n",
    "train_pca_green= green_pca.transform(green_train_s)\n",
    "train_pca_blue= blue_pca.transform(blue_train_s)\n",
    "##test\n",
    "test_pca_red= red_pca.transform(red_test_s)\n",
    "test_pca_green= green_pca.transform(green_test_s)\n",
    "test_pca_blue= blue_pca.transform(blue_test_s)\n",
    "##val\n",
    "val_pca_red= red_pca.transform(red_val_s)\n",
    "val_pca_green= green_pca.transform(green_val_s)\n",
    "val_pca_blue= blue_pca.transform(blue_val_s)"
   ]
  },
  {
   "cell_type": "code",
   "execution_count": 12,
   "id": "b5e7afe8",
   "metadata": {},
   "outputs": [],
   "source": [
    "# combine the three channels in one array\n",
    "train_pca = np.hstack((train_pca_red,train_pca_green,train_pca_blue))\n",
    "test_pca = np.hstack((test_pca_red,test_pca_green,test_pca_blue))\n",
    "val_pca = np.hstack((val_pca_red,val_pca_green,val_pca_blue))"
   ]
  },
  {
   "cell_type": "code",
   "execution_count": 13,
   "id": "a14a33a1",
   "metadata": {},
   "outputs": [
    {
     "data": {
      "text/plain": [
       "((19610, 3000), (6540, 3000), (6534, 3000))"
      ]
     },
     "execution_count": 13,
     "metadata": {},
     "output_type": "execute_result"
    }
   ],
   "source": [
    "# check the shape of each array, it should be (number of images, 3000)\n",
    "train_pca.shape, test_pca.shape, val_pca.shape"
   ]
  },
  {
   "cell_type": "markdown",
   "id": "9402c906",
   "metadata": {},
   "source": [
    "## Save the PCA features"
   ]
  },
  {
   "cell_type": "code",
   "execution_count": 14,
   "id": "c9a991f0",
   "metadata": {},
   "outputs": [],
   "source": [
    "import numpy as np\n",
    "# Save as csv for the pca features\n",
    "np.savetxt(\"train_PCA.csv\", train_pca, delimiter=\",\")\n",
    "# Save as csv for the pca features\n",
    "np.savetxt(\"test_PCA.csv\", test_pca, delimiter=\",\")\n",
    "# Save as csv for the pca features\n",
    "np.savetxt(\"val_PCA.csv\", val_pca, delimiter=\",\")"
   ]
  },
  {
   "cell_type": "markdown",
   "id": "2fe63e60",
   "metadata": {},
   "source": [
    "## Classification using logistic regression\n",
    "\n",
    "We are going to apply logistic regression to both feature with using regularization and gridresearch and pipline to search over the best\n",
    "hyper-parameters to use."
   ]
  },
  {
   "cell_type": "code",
   "execution_count": 49,
   "id": "2f1604e5",
   "metadata": {},
   "outputs": [],
   "source": [
    "# load the features from pca \n",
    "train_PCA = np.loadtxt('./models/pca-features/train_PCA.csv', delimiter=\",\")\n",
    "test_PCA = np.loadtxt('./models/pca-features/test_PCA.csv', delimiter=\",\")\n",
    "val_PCA = np.loadtxt('./models/pca-features/val_PCA.csv', delimiter=\",\")"
   ]
  },
  {
   "cell_type": "code",
   "execution_count": 18,
   "id": "09e2ada4",
   "metadata": {},
   "outputs": [],
   "source": [
    "def logistic(X_train,X_test,label_train,label_test):\n",
    "## define the hyperparameters\n",
    "\n",
    "    grid = {\"max_iter\":[140],\"C\":np.logspace(-3,3,7), \"penalty\":[\"l1\",\"l2\"]}\n",
    "    logreg = LogisticRegression(multi_class='multinomial',solver='saga')\n",
    "    logreg_cv=RandomizedSearchCV(logreg,grid,cv=3)\n",
    "    logreg_cv.fit(X_train,label_train)\n",
    "    print('train_score:', logreg_cv.score(X_train, label_train))\n",
    "    print('test_score:', logreg_cv.score(X_test, label_test))\n",
    "    print('best_Parameters:', logreg_cv.best_params_)\n",
    "    return logreg_cv\n"
   ]
  },
  {
   "cell_type": "code",
   "execution_count": 21,
   "id": "6041e04a",
   "metadata": {},
   "outputs": [
    {
     "name": "stderr",
     "output_type": "stream",
     "text": [
      "C:\\Users\\Malek\\anaconda3\\lib\\site-packages\\sklearn\\utils\\validation.py:63: DataConversionWarning: A column-vector y was passed when a 1d array was expected. Please change the shape of y to (n_samples, ), for example using ravel().\n",
      "  return f(*args, **kwargs)\n",
      "C:\\Users\\Malek\\anaconda3\\lib\\site-packages\\sklearn\\linear_model\\_sag.py:328: ConvergenceWarning: The max_iter was reached which means the coef_ did not converge\n",
      "  warnings.warn(\"The max_iter was reached which means \"\n",
      "C:\\Users\\Malek\\anaconda3\\lib\\site-packages\\sklearn\\utils\\validation.py:63: DataConversionWarning: A column-vector y was passed when a 1d array was expected. Please change the shape of y to (n_samples, ), for example using ravel().\n",
      "  return f(*args, **kwargs)\n",
      "C:\\Users\\Malek\\anaconda3\\lib\\site-packages\\sklearn\\linear_model\\_sag.py:328: ConvergenceWarning: The max_iter was reached which means the coef_ did not converge\n",
      "  warnings.warn(\"The max_iter was reached which means \"\n",
      "C:\\Users\\Malek\\anaconda3\\lib\\site-packages\\sklearn\\utils\\validation.py:63: DataConversionWarning: A column-vector y was passed when a 1d array was expected. Please change the shape of y to (n_samples, ), for example using ravel().\n",
      "  return f(*args, **kwargs)\n",
      "C:\\Users\\Malek\\anaconda3\\lib\\site-packages\\sklearn\\linear_model\\_sag.py:328: ConvergenceWarning: The max_iter was reached which means the coef_ did not converge\n",
      "  warnings.warn(\"The max_iter was reached which means \"\n",
      "C:\\Users\\Malek\\anaconda3\\lib\\site-packages\\sklearn\\utils\\validation.py:63: DataConversionWarning: A column-vector y was passed when a 1d array was expected. Please change the shape of y to (n_samples, ), for example using ravel().\n",
      "  return f(*args, **kwargs)\n",
      "C:\\Users\\Malek\\anaconda3\\lib\\site-packages\\sklearn\\linear_model\\_sag.py:328: ConvergenceWarning: The max_iter was reached which means the coef_ did not converge\n",
      "  warnings.warn(\"The max_iter was reached which means \"\n",
      "C:\\Users\\Malek\\anaconda3\\lib\\site-packages\\sklearn\\utils\\validation.py:63: DataConversionWarning: A column-vector y was passed when a 1d array was expected. Please change the shape of y to (n_samples, ), for example using ravel().\n",
      "  return f(*args, **kwargs)\n",
      "C:\\Users\\Malek\\anaconda3\\lib\\site-packages\\sklearn\\linear_model\\_sag.py:328: ConvergenceWarning: The max_iter was reached which means the coef_ did not converge\n",
      "  warnings.warn(\"The max_iter was reached which means \"\n",
      "C:\\Users\\Malek\\anaconda3\\lib\\site-packages\\sklearn\\utils\\validation.py:63: DataConversionWarning: A column-vector y was passed when a 1d array was expected. Please change the shape of y to (n_samples, ), for example using ravel().\n",
      "  return f(*args, **kwargs)\n",
      "C:\\Users\\Malek\\anaconda3\\lib\\site-packages\\sklearn\\linear_model\\_sag.py:328: ConvergenceWarning: The max_iter was reached which means the coef_ did not converge\n",
      "  warnings.warn(\"The max_iter was reached which means \"\n",
      "C:\\Users\\Malek\\anaconda3\\lib\\site-packages\\sklearn\\utils\\validation.py:63: DataConversionWarning: A column-vector y was passed when a 1d array was expected. Please change the shape of y to (n_samples, ), for example using ravel().\n",
      "  return f(*args, **kwargs)\n",
      "C:\\Users\\Malek\\anaconda3\\lib\\site-packages\\sklearn\\linear_model\\_sag.py:328: ConvergenceWarning: The max_iter was reached which means the coef_ did not converge\n",
      "  warnings.warn(\"The max_iter was reached which means \"\n",
      "C:\\Users\\Malek\\anaconda3\\lib\\site-packages\\sklearn\\utils\\validation.py:63: DataConversionWarning: A column-vector y was passed when a 1d array was expected. Please change the shape of y to (n_samples, ), for example using ravel().\n",
      "  return f(*args, **kwargs)\n",
      "C:\\Users\\Malek\\anaconda3\\lib\\site-packages\\sklearn\\linear_model\\_sag.py:328: ConvergenceWarning: The max_iter was reached which means the coef_ did not converge\n",
      "  warnings.warn(\"The max_iter was reached which means \"\n",
      "C:\\Users\\Malek\\anaconda3\\lib\\site-packages\\sklearn\\utils\\validation.py:63: DataConversionWarning: A column-vector y was passed when a 1d array was expected. Please change the shape of y to (n_samples, ), for example using ravel().\n",
      "  return f(*args, **kwargs)\n",
      "C:\\Users\\Malek\\anaconda3\\lib\\site-packages\\sklearn\\linear_model\\_sag.py:328: ConvergenceWarning: The max_iter was reached which means the coef_ did not converge\n",
      "  warnings.warn(\"The max_iter was reached which means \"\n",
      "C:\\Users\\Malek\\anaconda3\\lib\\site-packages\\sklearn\\utils\\validation.py:63: DataConversionWarning: A column-vector y was passed when a 1d array was expected. Please change the shape of y to (n_samples, ), for example using ravel().\n",
      "  return f(*args, **kwargs)\n",
      "C:\\Users\\Malek\\anaconda3\\lib\\site-packages\\sklearn\\linear_model\\_sag.py:328: ConvergenceWarning: The max_iter was reached which means the coef_ did not converge\n",
      "  warnings.warn(\"The max_iter was reached which means \"\n",
      "C:\\Users\\Malek\\anaconda3\\lib\\site-packages\\sklearn\\utils\\validation.py:63: DataConversionWarning: A column-vector y was passed when a 1d array was expected. Please change the shape of y to (n_samples, ), for example using ravel().\n",
      "  return f(*args, **kwargs)\n",
      "C:\\Users\\Malek\\anaconda3\\lib\\site-packages\\sklearn\\linear_model\\_sag.py:328: ConvergenceWarning: The max_iter was reached which means the coef_ did not converge\n",
      "  warnings.warn(\"The max_iter was reached which means \"\n",
      "C:\\Users\\Malek\\anaconda3\\lib\\site-packages\\sklearn\\utils\\validation.py:63: DataConversionWarning: A column-vector y was passed when a 1d array was expected. Please change the shape of y to (n_samples, ), for example using ravel().\n",
      "  return f(*args, **kwargs)\n",
      "C:\\Users\\Malek\\anaconda3\\lib\\site-packages\\sklearn\\linear_model\\_sag.py:328: ConvergenceWarning: The max_iter was reached which means the coef_ did not converge\n",
      "  warnings.warn(\"The max_iter was reached which means \"\n",
      "C:\\Users\\Malek\\anaconda3\\lib\\site-packages\\sklearn\\utils\\validation.py:63: DataConversionWarning: A column-vector y was passed when a 1d array was expected. Please change the shape of y to (n_samples, ), for example using ravel().\n",
      "  return f(*args, **kwargs)\n",
      "C:\\Users\\Malek\\anaconda3\\lib\\site-packages\\sklearn\\linear_model\\_sag.py:328: ConvergenceWarning: The max_iter was reached which means the coef_ did not converge\n",
      "  warnings.warn(\"The max_iter was reached which means \"\n",
      "C:\\Users\\Malek\\anaconda3\\lib\\site-packages\\sklearn\\utils\\validation.py:63: DataConversionWarning: A column-vector y was passed when a 1d array was expected. Please change the shape of y to (n_samples, ), for example using ravel().\n",
      "  return f(*args, **kwargs)\n",
      "C:\\Users\\Malek\\anaconda3\\lib\\site-packages\\sklearn\\linear_model\\_sag.py:328: ConvergenceWarning: The max_iter was reached which means the coef_ did not converge\n",
      "  warnings.warn(\"The max_iter was reached which means \"\n",
      "C:\\Users\\Malek\\anaconda3\\lib\\site-packages\\sklearn\\utils\\validation.py:63: DataConversionWarning: A column-vector y was passed when a 1d array was expected. Please change the shape of y to (n_samples, ), for example using ravel().\n",
      "  return f(*args, **kwargs)\n",
      "C:\\Users\\Malek\\anaconda3\\lib\\site-packages\\sklearn\\linear_model\\_sag.py:328: ConvergenceWarning: The max_iter was reached which means the coef_ did not converge\n",
      "  warnings.warn(\"The max_iter was reached which means \"\n",
      "C:\\Users\\Malek\\anaconda3\\lib\\site-packages\\sklearn\\utils\\validation.py:63: DataConversionWarning: A column-vector y was passed when a 1d array was expected. Please change the shape of y to (n_samples, ), for example using ravel().\n",
      "  return f(*args, **kwargs)\n",
      "C:\\Users\\Malek\\anaconda3\\lib\\site-packages\\sklearn\\linear_model\\_sag.py:328: ConvergenceWarning: The max_iter was reached which means the coef_ did not converge\n",
      "  warnings.warn(\"The max_iter was reached which means \"\n",
      "C:\\Users\\Malek\\anaconda3\\lib\\site-packages\\sklearn\\utils\\validation.py:63: DataConversionWarning: A column-vector y was passed when a 1d array was expected. Please change the shape of y to (n_samples, ), for example using ravel().\n",
      "  return f(*args, **kwargs)\n",
      "C:\\Users\\Malek\\anaconda3\\lib\\site-packages\\sklearn\\linear_model\\_sag.py:328: ConvergenceWarning: The max_iter was reached which means the coef_ did not converge\n",
      "  warnings.warn(\"The max_iter was reached which means \"\n",
      "C:\\Users\\Malek\\anaconda3\\lib\\site-packages\\sklearn\\utils\\validation.py:63: DataConversionWarning: A column-vector y was passed when a 1d array was expected. Please change the shape of y to (n_samples, ), for example using ravel().\n",
      "  return f(*args, **kwargs)\n"
     ]
    },
    {
     "name": "stderr",
     "output_type": "stream",
     "text": [
      "C:\\Users\\Malek\\anaconda3\\lib\\site-packages\\sklearn\\linear_model\\_sag.py:328: ConvergenceWarning: The max_iter was reached which means the coef_ did not converge\n",
      "  warnings.warn(\"The max_iter was reached which means \"\n",
      "C:\\Users\\Malek\\anaconda3\\lib\\site-packages\\sklearn\\utils\\validation.py:63: DataConversionWarning: A column-vector y was passed when a 1d array was expected. Please change the shape of y to (n_samples, ), for example using ravel().\n",
      "  return f(*args, **kwargs)\n",
      "C:\\Users\\Malek\\anaconda3\\lib\\site-packages\\sklearn\\linear_model\\_sag.py:328: ConvergenceWarning: The max_iter was reached which means the coef_ did not converge\n",
      "  warnings.warn(\"The max_iter was reached which means \"\n",
      "C:\\Users\\Malek\\anaconda3\\lib\\site-packages\\sklearn\\utils\\validation.py:63: DataConversionWarning: A column-vector y was passed when a 1d array was expected. Please change the shape of y to (n_samples, ), for example using ravel().\n",
      "  return f(*args, **kwargs)\n",
      "C:\\Users\\Malek\\anaconda3\\lib\\site-packages\\sklearn\\linear_model\\_sag.py:328: ConvergenceWarning: The max_iter was reached which means the coef_ did not converge\n",
      "  warnings.warn(\"The max_iter was reached which means \"\n",
      "C:\\Users\\Malek\\anaconda3\\lib\\site-packages\\sklearn\\utils\\validation.py:63: DataConversionWarning: A column-vector y was passed when a 1d array was expected. Please change the shape of y to (n_samples, ), for example using ravel().\n",
      "  return f(*args, **kwargs)\n",
      "C:\\Users\\Malek\\anaconda3\\lib\\site-packages\\sklearn\\linear_model\\_sag.py:328: ConvergenceWarning: The max_iter was reached which means the coef_ did not converge\n",
      "  warnings.warn(\"The max_iter was reached which means \"\n",
      "C:\\Users\\Malek\\anaconda3\\lib\\site-packages\\sklearn\\utils\\validation.py:63: DataConversionWarning: A column-vector y was passed when a 1d array was expected. Please change the shape of y to (n_samples, ), for example using ravel().\n",
      "  return f(*args, **kwargs)\n",
      "C:\\Users\\Malek\\anaconda3\\lib\\site-packages\\sklearn\\linear_model\\_sag.py:328: ConvergenceWarning: The max_iter was reached which means the coef_ did not converge\n",
      "  warnings.warn(\"The max_iter was reached which means \"\n",
      "C:\\Users\\Malek\\anaconda3\\lib\\site-packages\\sklearn\\utils\\validation.py:63: DataConversionWarning: A column-vector y was passed when a 1d array was expected. Please change the shape of y to (n_samples, ), for example using ravel().\n",
      "  return f(*args, **kwargs)\n",
      "C:\\Users\\Malek\\anaconda3\\lib\\site-packages\\sklearn\\linear_model\\_sag.py:328: ConvergenceWarning: The max_iter was reached which means the coef_ did not converge\n",
      "  warnings.warn(\"The max_iter was reached which means \"\n",
      "C:\\Users\\Malek\\anaconda3\\lib\\site-packages\\sklearn\\utils\\validation.py:63: DataConversionWarning: A column-vector y was passed when a 1d array was expected. Please change the shape of y to (n_samples, ), for example using ravel().\n",
      "  return f(*args, **kwargs)\n",
      "C:\\Users\\Malek\\anaconda3\\lib\\site-packages\\sklearn\\linear_model\\_sag.py:328: ConvergenceWarning: The max_iter was reached which means the coef_ did not converge\n",
      "  warnings.warn(\"The max_iter was reached which means \"\n",
      "C:\\Users\\Malek\\anaconda3\\lib\\site-packages\\sklearn\\utils\\validation.py:63: DataConversionWarning: A column-vector y was passed when a 1d array was expected. Please change the shape of y to (n_samples, ), for example using ravel().\n",
      "  return f(*args, **kwargs)\n",
      "C:\\Users\\Malek\\anaconda3\\lib\\site-packages\\sklearn\\linear_model\\_sag.py:328: ConvergenceWarning: The max_iter was reached which means the coef_ did not converge\n",
      "  warnings.warn(\"The max_iter was reached which means \"\n",
      "C:\\Users\\Malek\\anaconda3\\lib\\site-packages\\sklearn\\utils\\validation.py:63: DataConversionWarning: A column-vector y was passed when a 1d array was expected. Please change the shape of y to (n_samples, ), for example using ravel().\n",
      "  return f(*args, **kwargs)\n",
      "C:\\Users\\Malek\\anaconda3\\lib\\site-packages\\sklearn\\linear_model\\_sag.py:328: ConvergenceWarning: The max_iter was reached which means the coef_ did not converge\n",
      "  warnings.warn(\"The max_iter was reached which means \"\n",
      "C:\\Users\\Malek\\anaconda3\\lib\\site-packages\\sklearn\\utils\\validation.py:63: DataConversionWarning: A column-vector y was passed when a 1d array was expected. Please change the shape of y to (n_samples, ), for example using ravel().\n",
      "  return f(*args, **kwargs)\n",
      "C:\\Users\\Malek\\anaconda3\\lib\\site-packages\\sklearn\\linear_model\\_sag.py:328: ConvergenceWarning: The max_iter was reached which means the coef_ did not converge\n",
      "  warnings.warn(\"The max_iter was reached which means \"\n",
      "C:\\Users\\Malek\\anaconda3\\lib\\site-packages\\sklearn\\utils\\validation.py:63: DataConversionWarning: A column-vector y was passed when a 1d array was expected. Please change the shape of y to (n_samples, ), for example using ravel().\n",
      "  return f(*args, **kwargs)\n",
      "C:\\Users\\Malek\\anaconda3\\lib\\site-packages\\sklearn\\linear_model\\_sag.py:328: ConvergenceWarning: The max_iter was reached which means the coef_ did not converge\n",
      "  warnings.warn(\"The max_iter was reached which means \"\n",
      "C:\\Users\\Malek\\anaconda3\\lib\\site-packages\\sklearn\\utils\\validation.py:63: DataConversionWarning: A column-vector y was passed when a 1d array was expected. Please change the shape of y to (n_samples, ), for example using ravel().\n",
      "  return f(*args, **kwargs)\n",
      "C:\\Users\\Malek\\anaconda3\\lib\\site-packages\\sklearn\\linear_model\\_sag.py:328: ConvergenceWarning: The max_iter was reached which means the coef_ did not converge\n",
      "  warnings.warn(\"The max_iter was reached which means \"\n",
      "C:\\Users\\Malek\\anaconda3\\lib\\site-packages\\sklearn\\utils\\validation.py:63: DataConversionWarning: A column-vector y was passed when a 1d array was expected. Please change the shape of y to (n_samples, ), for example using ravel().\n",
      "  return f(*args, **kwargs)\n",
      "C:\\Users\\Malek\\anaconda3\\lib\\site-packages\\sklearn\\linear_model\\_sag.py:328: ConvergenceWarning: The max_iter was reached which means the coef_ did not converge\n",
      "  warnings.warn(\"The max_iter was reached which means \"\n",
      "C:\\Users\\Malek\\anaconda3\\lib\\site-packages\\sklearn\\utils\\validation.py:63: DataConversionWarning: A column-vector y was passed when a 1d array was expected. Please change the shape of y to (n_samples, ), for example using ravel().\n",
      "  return f(*args, **kwargs)\n",
      "C:\\Users\\Malek\\anaconda3\\lib\\site-packages\\sklearn\\linear_model\\_sag.py:328: ConvergenceWarning: The max_iter was reached which means the coef_ did not converge\n",
      "  warnings.warn(\"The max_iter was reached which means \"\n"
     ]
    },
    {
     "name": "stdout",
     "output_type": "stream",
     "text": [
      "train_score: 0.7415604283528812\n",
      "test_score: 0.6837920489296636\n",
      "best_Parameters: {'penalty': 'l2', 'max_iter': 140, 'C': 0.01}\n"
     ]
    }
   ],
   "source": [
    "## train logistic on the PCA features\n",
    "lr_PCA = logistic(train_PCA,test_PCA,label_train,label_test)"
   ]
  },
  {
   "cell_type": "markdown",
   "id": "db0eb10c",
   "metadata": {},
   "source": [
    "## Save the lr_PCA model"
   ]
  },
  {
   "cell_type": "code",
   "execution_count": 22,
   "id": "e4a634c0",
   "metadata": {},
   "outputs": [],
   "source": [
    "with open('./models/lr_PCA.pkl', 'wb') as pickle_out:\n",
    "    pickled_lr_PCA = pickle.dump(lr_PCA, pickle_out)"
   ]
  },
  {
   "cell_type": "markdown",
   "id": "e0eb0229",
   "metadata": {},
   "source": [
    "## Classification using RandomForestClassifier\n",
    "\n",
    "Same we did with the logistic regression we are going to repate it with the  RandomForestClassifier."
   ]
  },
  {
   "cell_type": "markdown",
   "id": "f3d47fa0",
   "metadata": {},
   "source": [
    "## RandomForestClassifier with vgg"
   ]
  },
  {
   "cell_type": "code",
   "execution_count": 36,
   "id": "52d1115f",
   "metadata": {},
   "outputs": [],
   "source": [
    "rfc_vgg = RandomForestClassifier(n_estimators=1000, min_samples_split=7, min_samples_leaf=3)"
   ]
  },
  {
   "cell_type": "code",
   "execution_count": 37,
   "id": "0c26d788",
   "metadata": {},
   "outputs": [
    {
     "name": "stderr",
     "output_type": "stream",
     "text": [
      "<ipython-input-37-9883f8850ee6>:1: DataConversionWarning: A column-vector y was passed when a 1d array was expected. Please change the shape of y to (n_samples,), for example using ravel().\n",
      "  rfc_vgg.fit(train_features_vgg,label_train)\n"
     ]
    },
    {
     "data": {
      "text/plain": [
       "RandomForestClassifier(min_samples_leaf=3, min_samples_split=7,\n",
       "                       n_estimators=1000)"
      ]
     },
     "execution_count": 37,
     "metadata": {},
     "output_type": "execute_result"
    }
   ],
   "source": [
    "rfc_vgg.fit(train_features_vgg,label_train)"
   ]
  },
  {
   "cell_type": "code",
   "execution_count": 38,
   "id": "1713a017",
   "metadata": {},
   "outputs": [
    {
     "data": {
      "text/plain": [
       "(0.9969403365629781, 0.767737003058104)"
      ]
     },
     "execution_count": 38,
     "metadata": {},
     "output_type": "execute_result"
    }
   ],
   "source": [
    "rfc_vgg.score(train_features_vgg,label_train),rfc_vgg.score(test_features_vgg,label_test)"
   ]
  },
  {
   "cell_type": "code",
   "execution_count": 39,
   "id": "d69485a3",
   "metadata": {},
   "outputs": [],
   "source": [
    "## save the rfc_vgg model\n",
    "with open('./models/rfc_vgg.pkl', 'wb') as pickle_out:\n",
    "    pickled_rfc_vgg = pickle.dump(rfc_vgg, pickle_out)"
   ]
  },
  {
   "cell_type": "markdown",
   "id": "50f095b6",
   "metadata": {},
   "source": [
    "### RandomForestClassifier with pca"
   ]
  },
  {
   "cell_type": "code",
   "execution_count": 41,
   "id": "117c4067",
   "metadata": {},
   "outputs": [],
   "source": [
    "## train rfc on the PCA features\n",
    "rfc_pca = RandomForestClassifier(n_estimators=1000, min_samples_split=7, min_samples_leaf=3)"
   ]
  },
  {
   "cell_type": "code",
   "execution_count": 51,
   "id": "b2d84607",
   "metadata": {},
   "outputs": [
    {
     "name": "stderr",
     "output_type": "stream",
     "text": [
      "<ipython-input-51-b537bb89d758>:1: DataConversionWarning: A column-vector y was passed when a 1d array was expected. Please change the shape of y to (n_samples,), for example using ravel().\n",
      "  rfc_pca.fit(train_PCA,label_train)\n"
     ]
    },
    {
     "data": {
      "text/plain": [
       "RandomForestClassifier(min_samples_leaf=3, min_samples_split=7,\n",
       "                       n_estimators=1000)"
      ]
     },
     "execution_count": 51,
     "metadata": {},
     "output_type": "execute_result"
    }
   ],
   "source": [
    "rfc_pca.fit(train_PCA,label_train)"
   ]
  },
  {
   "cell_type": "code",
   "execution_count": 52,
   "id": "072e5d89",
   "metadata": {},
   "outputs": [
    {
     "data": {
      "text/plain": [
       "(0.9998470168281489, 0.5860856269113149)"
      ]
     },
     "execution_count": 52,
     "metadata": {},
     "output_type": "execute_result"
    }
   ],
   "source": [
    "# check the score for test and train \n",
    "rfc_pca.score(train_PCA,label_train),rfc_pca.score(test_PCA,label_test)"
   ]
  },
  {
   "cell_type": "code",
   "execution_count": 53,
   "id": "33e5a04d",
   "metadata": {},
   "outputs": [],
   "source": [
    "## save the rfc_PCA model\n",
    "with open('./models/rfc_pca.pkl', 'wb') as pickle_out:\n",
    "    pickled_rfc_PCA = pickle.dump(rfc_pca, pickle_out)"
   ]
  },
  {
   "cell_type": "markdown",
   "id": "ae8bac33",
   "metadata": {},
   "source": [
    "## Feature extraction using VGG16\n",
    " In this step we are going to use a pre-trained network  on large-scale datasets such as ImageNet and COCO.\n",
    " These pre-trained networks has proven itself in the feature extraction and transfer learning process as they were trained\n",
    " on a set of rich, discriminative features capable of recognizing 100s to 1,000s of object classes.\n",
    " What we are going to do is to use this network to extract the most important feature of the image by input the image to the\n",
    " network and chopped out the final fully connected layers from the network a set of rich, discriminative features capable of recognizing 100s to 1,000s of object classes k so it will not output the class rather than it will\n",
    " output the output feature of the final Maxpool layer.\n",
    "\n",
    "- VGG16 is a deep CNN network  pretrained on imagenet data set"
   ]
  },
  {
   "cell_type": "code",
   "execution_count": 18,
   "id": "73ffbfb3",
   "metadata": {},
   "outputs": [],
   "source": [
    "# call the VGG16 model\n",
    "vgg = VGG16(weights=\"imagenet\", include_top=False)\n",
    "\n",
    "# we put include_top=False, so the the fully-connected head with the softmax classifier of the VGG16 wil not be included."
   ]
  },
  {
   "cell_type": "code",
   "execution_count": 8,
   "id": "8fddbd59",
   "metadata": {},
   "outputs": [],
   "source": [
    "# before input the images to the feature extractor we have to reshape it and scale it\n",
    "# reshape\n",
    "X_train_vgg = img_content_train.reshape(img_content_train.shape[0], 224, 224, 3)\n",
    "X_test_vgg = img_content_test.reshape(img_content_test.shape[0], 224, 224, 3)\n",
    "X_val_vgg = img_content_val.reshape(img_content_val.shape[0], 224, 224, 3)\n",
    "\n",
    "# scale using vgg preprocessing\n",
    "X_train_vgg = preprocess_input(X_train_vgg)\n",
    "X_test_vgg = preprocess_input(X_test_vgg)\n",
    "X_val_vgg = preprocess_input(X_val_vgg)"
   ]
  },
  {
   "cell_type": "code",
   "execution_count": 9,
   "id": "6b3e7035",
   "metadata": {},
   "outputs": [],
   "source": [
    "# extract the features\n",
    "train_features_vgg = vgg.predict(X_train_vgg )\n",
    "test_features_vgg = vgg.predict(X_test_vgg )\n",
    "val_features_vgg = vgg.predict(X_val_vgg )"
   ]
  },
  {
   "cell_type": "code",
   "execution_count": 11,
   "id": "9cd73d46",
   "metadata": {},
   "outputs": [
    {
     "data": {
      "text/plain": [
       "(19610, 7, 7, 512)"
      ]
     },
     "execution_count": 11,
     "metadata": {},
     "output_type": "execute_result"
    }
   ],
   "source": [
    "train_features_vgg.shape"
   ]
  },
  {
   "cell_type": "code",
   "execution_count": 15,
   "id": "c90f7f1d",
   "metadata": {},
   "outputs": [],
   "source": [
    "train_features_vgg = np.array(train_features_vgg)\n",
    "test_features_vgg = np.array(test_features_vgg)\n",
    "val_features_vgg = np.array(val_features_vgg)"
   ]
  },
  {
   "cell_type": "code",
   "execution_count": 17,
   "id": "a1454876",
   "metadata": {},
   "outputs": [],
   "source": [
    "# flatten the features array to the size (number of image, 7 * 7 * 512) we choose the size 7 * 7 * 512 as the last max-pooling \n",
    "#layer of the vgg will have an output shape of 7 x 7 x 512. Flattening, this volume into a feature vector we would obtain a \n",
    "#list of 7 x 7 x 512 = 25,088 features for each image.\n",
    "\n",
    "# these features will be used as an input to a classifier to classify the images.\n",
    "train_features_vgg = train_features_vgg.reshape((train_features_vgg.shape[0], 7 * 7 * 512))\n",
    "test_features_vgg = test_features_vgg.reshape((test_features_vgg.shape[0], 7 * 7 * 512))\n",
    "val_features_vgg = val_features_vgg.reshape((val_features_vgg.shape[0], 7 * 7 * 512))"
   ]
  },
  {
   "cell_type": "markdown",
   "id": "84846e89",
   "metadata": {},
   "source": [
    "## Save as csv for the vgg features"
   ]
  },
  {
   "cell_type": "code",
   "execution_count": 30,
   "id": "627788b7",
   "metadata": {},
   "outputs": [],
   "source": [
    "# Save as csv for the vgg features\n",
    "np.savetxt(\"train_vgg.csv\", train_features_vgg, delimiter=\",\")\n",
    "# Save as csv for the pca features\n",
    "np.savetxt(\"test_vgg.csv\", test_features_vgg, delimiter=\",\")\n",
    "# Save as csv for the pca features\n",
    "np.savetxt(\"val_vgg.csv\", val_features_vgg, delimiter=\",\")"
   ]
  },
  {
   "cell_type": "code",
   "execution_count": 7,
   "id": "9300964c",
   "metadata": {},
   "outputs": [],
   "source": [
    "train_features_vgg = np.loadtxt('./models/vgg-features/train_vgg.csv', delimiter=\",\")\n",
    "test_features_vgg = np.loadtxt('./models/vgg-features/test_vgg.csv', delimiter=\",\")\n",
    "val_features_vgg = np.loadtxt('./models/vgg-features/val_vgg.csv', delimiter=\",\")"
   ]
  },
  {
   "cell_type": "markdown",
   "id": "a6f0dbf1",
   "metadata": {},
   "source": [
    "## model vgg with Logistic Regression (gridsearch)"
   ]
  },
  {
   "cell_type": "code",
   "execution_count": 13,
   "id": "f0e17e0d",
   "metadata": {},
   "outputs": [],
   "source": [
    "lr_vgg = LogisticRegression(multi_class=\"multinomial\", solver=\"saga\",  penalty='l2')"
   ]
  },
  {
   "cell_type": "code",
   "execution_count": 14,
   "id": "7b72aff4",
   "metadata": {
    "scrolled": true
   },
   "outputs": [
    {
     "name": "stderr",
     "output_type": "stream",
     "text": [
      "C:\\Users\\Malek\\anaconda3\\lib\\site-packages\\sklearn\\utils\\validation.py:63: DataConversionWarning: A column-vector y was passed when a 1d array was expected. Please change the shape of y to (n_samples, ), for example using ravel().\n",
      "  return f(*args, **kwargs)\n",
      "C:\\Users\\Malek\\anaconda3\\lib\\site-packages\\sklearn\\linear_model\\_sag.py:328: ConvergenceWarning: The max_iter was reached which means the coef_ did not converge\n",
      "  warnings.warn(\"The max_iter was reached which means \"\n"
     ]
    },
    {
     "data": {
      "text/plain": [
       "LogisticRegression(multi_class='multinomial', solver='saga')"
      ]
     },
     "execution_count": 14,
     "metadata": {},
     "output_type": "execute_result"
    }
   ],
   "source": [
    "# train logistic on the VGG16 features\n",
    "lr_vgg.fit(train_features_vgg,label_train)"
   ]
  },
  {
   "cell_type": "code",
   "execution_count": 24,
   "id": "cdd7b2e9",
   "metadata": {},
   "outputs": [
    {
     "data": {
      "text/plain": [
       "(1.0, 0.9100917431192661)"
      ]
     },
     "execution_count": 24,
     "metadata": {},
     "output_type": "execute_result"
    }
   ],
   "source": [
    "# check the score for test and train \n",
    "lr_vgg.score(train_features_vgg,label_train),lr_vgg.score(test_features_vgg,label_test)"
   ]
  },
  {
   "cell_type": "markdown",
   "id": "a4cecbbe",
   "metadata": {},
   "source": [
    "## Results:\n",
    "From the table above witch shows the train and test accuracy for the different models we have applied, we can see that all of them has an overfit. The one with the best performance among them is the vgg16 with logistic regression, it has a 1 train accuracy and 0.91 test accuracy. If we would pick one model from the above model we will pick the vgg16 with logistic regression. We can notice that the PCA for feature extraction and then apply simple classification models didn’t work well. Even though the features extracted using the PCA covers almost more than 90% of the variance on the images, it didn’t do well in the classification. The base model we have did good work compare to the other models."
   ]
  },
  {
   "cell_type": "code",
   "execution_count": null,
   "id": "b82500a2",
   "metadata": {},
   "outputs": [],
   "source": []
  }
 ],
 "metadata": {
  "kernelspec": {
   "display_name": "Python 3",
   "language": "python",
   "name": "python3"
  },
  "language_info": {
   "codemirror_mode": {
    "name": "ipython",
    "version": 3
   },
   "file_extension": ".py",
   "mimetype": "text/x-python",
   "name": "python",
   "nbconvert_exporter": "python",
   "pygments_lexer": "ipython3",
   "version": "3.8.8"
  }
 },
 "nbformat": 4,
 "nbformat_minor": 5
}
